{
 "cells": [
  {
   "cell_type": "code",
   "execution_count": 2,
   "id": "5d2e8d6b-3e48-4290-bbc4-e02deec6484a",
   "metadata": {},
   "outputs": [],
   "source": [
    "import numpy as np\n",
    "import pandas as pd\n",
    "import matplotlib.pyplot as plt\n",
    "import seaborn as sns\n",
    "import warnings\n",
    "\n",
    "warnings.filterwarnings('ignore')"
   ]
  },
  {
   "cell_type": "code",
   "execution_count": 3,
   "id": "ee7a3b5e-aced-4ece-8b41-0cc94b91f17e",
   "metadata": {},
   "outputs": [],
   "source": [
    "df = pd.read_csv(\"../data/raw/loan_data.csv\", header=1)"
   ]
  },
  {
   "cell_type": "markdown",
   "id": "5cc38fcc-29ad-4d25-a9fa-3ef84bcd8052",
   "metadata": {},
   "source": [
    "# Feature Engineering and Extraction"
   ]
  },
  {
   "cell_type": "code",
   "execution_count": null,
   "id": "d984db2b-1383-4a9d-a967-340ebe9c3307",
   "metadata": {},
   "outputs": [],
   "source": []
  }
 ],
 "metadata": {
  "kernelspec": {
   "display_name": "Python 3 (ipykernel)",
   "language": "python",
   "name": "python3"
  },
  "language_info": {
   "codemirror_mode": {
    "name": "ipython",
    "version": 3
   },
   "file_extension": ".py",
   "mimetype": "text/x-python",
   "name": "python",
   "nbconvert_exporter": "python",
   "pygments_lexer": "ipython3",
   "version": "3.13.3"
  }
 },
 "nbformat": 4,
 "nbformat_minor": 5
}
